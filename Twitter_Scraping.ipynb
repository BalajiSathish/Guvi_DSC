{
  "nbformat": 4,
  "nbformat_minor": 0,
  "metadata": {
    "colab": {
      "provenance": [],
      "authorship_tag": "ABX9TyNXMOccDCPt9eYx6c8RxPjV",
      "include_colab_link": true
    },
    "kernelspec": {
      "name": "python3",
      "display_name": "Python 3"
    },
    "language_info": {
      "name": "python"
    }
  },
  "cells": [
    {
      "cell_type": "markdown",
      "metadata": {
        "id": "view-in-github",
        "colab_type": "text"
      },
      "source": [
        "<a href=\"https://colab.research.google.com/github/BalajiSathish/Guvi_DSC/blob/main/Twitter_Scraping.ipynb\" target=\"_parent\"><img src=\"https://colab.research.google.com/assets/colab-badge.svg\" alt=\"Open In Colab\"/></a>"
      ]
    },
    {
      "cell_type": "markdown",
      "source": [
        "**Import necessary library**"
      ],
      "metadata": {
        "id": "Cs8rbhBlBrA6"
      }
    },
    {
      "cell_type": "code",
      "execution_count": null,
      "metadata": {
        "id": "hUm1Y1ajBkZw"
      },
      "outputs": [],
      "source": [
        "import streamlit as st\n",
        "import pandas as pd\n",
        "from pymongo import MongoClient\n",
        "from PIL import Image\n",
        "import snscrape.modules.twitter as sntwitter\n"
      ]
    },
    {
      "cell_type": "markdown",
      "source": [
        "**Set Image and fields**"
      ],
      "metadata": {
        "id": "oEF9HApkCY9U"
      }
    },
    {
      "cell_type": "code",
      "source": [
        "tweets_list = [ ]\n",
        "image = Image.open ('/home/gg/Balaji/Twitt.jpg')\n",
        "st.image (image)\n",
        "st.subheader (\"\"\"\n",
        "Wanna scrape some Tweets... Let's Goooo :smile:\n",
        "\"\"\")"
      ],
      "metadata": {
        "id": "6NytwDerB5O9"
      },
      "execution_count": null,
      "outputs": []
    },
    {
      "cell_type": "markdown",
      "source": [
        "**Set the necessary fields in the form**"
      ],
      "metadata": {
        "id": "C2De26zxCeQV"
      }
    },
    {
      "cell_type": "code",
      "source": [
        "with st.form (key='Twitter_form'):\n",
        "\tsearch = st.text_input ('What do you want to search for?')\n",
        "\tlimit = st.number_input ('How many tweets do you want to get?', 0, 1000, step=10)\n",
        "\tsubmit_button = st.form_submit_button (label='Search')"
      ],
      "metadata": {
        "id": "O0XCXfUwB5Yj"
      },
      "execution_count": null,
      "outputs": []
    },
    {
      "cell_type": "markdown",
      "source": [
        "**Getting tweets from twitter**"
      ],
      "metadata": {
        "id": "-cv45OEgCrzj"
      }
    },
    {
      "cell_type": "code",
      "source": [
        "\n",
        "if submit_button:\n",
        "\tfor i, tweet in enumerate (sntwitter.TwitterSearchScraper ('{}'.format (search)).get_items ()):\n",
        "\t\t\n",
        "\t\tif i > limit:\n",
        "\t\t\tbreak\n",
        "\t\ttweets_list.append (\n",
        "\t\t\t[ tweet.date, tweet.id, tweet.content, tweet.user.username, tweet.replyCount, tweet.retweetCount,\n",
        "\t\t\t  tweet.lang, tweet.source, tweet.likeCount ])"
      ],
      "metadata": {
        "id": "lXbJqjP7B5eX"
      },
      "execution_count": null,
      "outputs": []
    },
    {
      "cell_type": "markdown",
      "source": [
        "**Creating a dataframe from the tweets list above**"
      ],
      "metadata": {
        "id": "-frmC48jCxX0"
      }
    },
    {
      "cell_type": "code",
      "source": [
        "df = pd.DataFrame (tweets_list,\n",
        "\t\t\t\t   columns=[ 'Datetime', 'Tweet Id', 'Text', 'Username', 'Reply Count', 'Retweet Count',\n",
        "\t\t\t\t\t\t\t 'Language', 'Source', 'Like Count' ])"
      ],
      "metadata": {
        "id": "vIaP_Zg7B5g8"
      },
      "execution_count": null,
      "outputs": []
    },
    {
      "cell_type": "markdown",
      "source": [
        "**Inserting files into database**"
      ],
      "metadata": {
        "id": "OOOIOLr5C1Xg"
      }
    },
    {
      "cell_type": "code",
      "source": [
        "client = MongoClient (\"mongodb://localhost:27017/\")\n",
        "mydb = client[ \"twitter\" ]\n",
        "mycol = mydb[ 'Data' ]\n",
        "df.to_csv (f'{search}.csv', index=False, encoding='utf-8')\n",
        "df2 = pd.read_csv (f'{search}.csv')\n",
        "df2.reset_inde x(inplace=True)\n",
        "data1 = df2.to_dict (orient='records')\n",
        "mycol.insert_man y(data1)\n",
        "\n"
      ],
      "metadata": {
        "id": "YohFt2trB5jR"
      },
      "execution_count": null,
      "outputs": []
    },
    {
      "cell_type": "markdown",
      "source": [
        "**show the table in streamlit**"
      ],
      "metadata": {
        "id": "LMf12doEC6M8"
      }
    },
    {
      "cell_type": "code",
      "source": [
        "st.table (df2)"
      ],
      "metadata": {
        "id": "Wzbvx4YKB5nI"
      },
      "execution_count": null,
      "outputs": []
    },
    {
      "cell_type": "code",
      "source": [],
      "metadata": {
        "id": "u-S6qvfTB5p-"
      },
      "execution_count": null,
      "outputs": []
    }
  ]
}