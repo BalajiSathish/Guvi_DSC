{
  "nbformat": 4,
  "nbformat_minor": 0,
  "metadata": {
    "colab": {
      "provenance": [],
      "authorship_tag": "ABX9TyP3sitdlLYT8fufH5wBZjbO",
      "include_colab_link": true
    },
    "kernelspec": {
      "name": "python3",
      "display_name": "Python 3"
    },
    "language_info": {
      "name": "python"
    }
  },
  "cells": [
    {
      "cell_type": "markdown",
      "metadata": {
        "id": "view-in-github",
        "colab_type": "text"
      },
      "source": [
        "<a href=\"https://colab.research.google.com/github/BalajiSathish/Guvi_DSC/blob/main/login.ipynb\" target=\"_parent\"><img src=\"https://colab.research.google.com/assets/colab-badge.svg\" alt=\"Open In Colab\"/></a>"
      ]
    },
    {
      "cell_type": "code",
      "execution_count": null,
      "metadata": {
        "id": "WXqAovqcOwO9"
      },
      "outputs": [],
      "source": [
        "import re\n",
        "s = input(\"Username:\")\n",
        "ss = input(\"Password:\")\n",
        "id = '^[a-zA-Z]+[\\._]?[a-z0-9]+[\\@]?[A-Za-z0-9]{4,}[.]\\w+[com]$' \n",
        "pwd = \"^.*(?=.{5,})(?=.*\\d)(?=.*[a-z])(?=.*[A-Z])(?=.*[@#$%^&+=]).*$\"\n",
        "if re.match(id,s):\n",
        "  if re.findall(pwd,ss):\n",
        "    for i in  \n",
        "  else:\n",
        "    print('NO')"
      ]
    }
  ]
}